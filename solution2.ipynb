{
 "metadata": {
  "language_info": {
   "codemirror_mode": {
    "name": "ipython",
    "version": 3
   },
   "file_extension": ".py",
   "mimetype": "text/x-python",
   "name": "python",
   "nbconvert_exporter": "python",
   "pygments_lexer": "ipython3",
   "version": "3.8.3-final"
  },
  "orig_nbformat": 2,
  "kernelspec": {
   "name": "python_defaultSpec_1599406459755",
   "display_name": "Python 3.8.3 32-bit"
  }
 },
 "nbformat": 4,
 "nbformat_minor": 2,
 "cells": [
  {
   "cell_type": "markdown",
   "metadata": {},
   "source": [
    "# Solutions"
   ]
  },
  {
   "cell_type": "markdown",
   "metadata": {},
   "source": [
    "## Solution 1"
   ]
  },
  {
   "cell_type": "code",
   "execution_count": 76,
   "metadata": {
    "tags": []
   },
   "outputs": [
    {
     "output_type": "stream",
     "name": "stdout",
     "text": "Direction: Write code that compute the squares and cubes for numbers from 0 to 5. Display the output as the following: each cell occupies 20 spaces and right-aligned.\n\n              number              square                cube\n                   0                   0                   0\n                   1                   1                   1\n                   2                   4                   8\n                   3                   9                  27\n                   4                  16                  64\n                   5                  25                 125\n"
    }
   ],
   "source": [
    "#Variables\n",
    "DIRECTION = 'Direction: Write code that compute the squares and cubes for numbers from 0 to 5. Display the output as the following: each cell occupies 20 spaces and right-aligned.\\n'\n",
    "\n",
    "COL1_HEAD = 'number'\n",
    "COL2_HEAD = 'square'\n",
    "COL3_HEAD = 'cube'\n",
    "START = 0\n",
    "COUNT = 5\n",
    "COL1_POWER = 1\n",
    "COL2_POWER = 2\n",
    "COL3_POWER = 3\n",
    "WIDTH = 20\n",
    "PAD_CHAR = ' '\n",
    "\n",
    "#Print drections\n",
    "print(DIRECTION)\n",
    "\n",
    "#Construct and print the header row\n",
    "head_format   = f'{COL1_HEAD:{PAD_CHAR}>{WIDTH}}'\n",
    "head_format  += f'{COL2_HEAD:{PAD_CHAR}>{WIDTH}}'\n",
    "head_format  += f'{COL3_HEAD:{PAD_CHAR}>{WIDTH}}'\n",
    "print(head_format)\n",
    "\n",
    "#Construct and print each of the data rows\n",
    "for x in range(START,COUNT + 1):\n",
    "    line_str  = f'{x**COL1_POWER :{PAD_CHAR}>{WIDTH}}'\n",
    "    line_str += f'{x**COL2_POWER :{PAD_CHAR}>{WIDTH}}'\n",
    "    line_str += f'{x**COL3_POWER :{PAD_CHAR}>{WIDTH}}'\n",
    "    print(line_str)\n",
    "    x += 1"
   ]
  },
  {
   "cell_type": "markdown",
   "metadata": {},
   "source": [
    "## Solution 2"
   ]
  },
  {
   "cell_type": "code",
   "execution_count": null,
   "metadata": {},
   "outputs": [],
   "source": []
  },
  {
   "cell_type": "markdown",
   "metadata": {},
   "source": [
    "## Solution 3"
   ]
  },
  {
   "cell_type": "code",
   "execution_count": null,
   "metadata": {},
   "outputs": [],
   "source": []
  }
 ]
}