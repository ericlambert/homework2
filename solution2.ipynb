{
 "metadata": {
  "language_info": {
   "codemirror_mode": {
    "name": "ipython",
    "version": 3
   },
   "file_extension": ".py",
   "mimetype": "text/x-python",
   "name": "python",
   "nbconvert_exporter": "python",
   "pygments_lexer": "ipython3",
   "version": "3.8.3-final"
  },
  "orig_nbformat": 2,
  "kernelspec": {
   "name": "python_defaultSpec_1599406459755",
   "display_name": "Python 3.8.3 32-bit"
  }
 },
 "nbformat": 4,
 "nbformat_minor": 2,
 "cells": [
  {
   "cell_type": "markdown",
   "metadata": {},
   "source": [
    "# Solutions"
   ]
  },
  {
   "cell_type": "markdown",
   "metadata": {},
   "source": [
    "## Solution 1"
   ]
  },
  {
   "cell_type": "code",
   "execution_count": 124,
   "metadata": {
    "tags": []
   },
   "outputs": [
    {
     "output_type": "stream",
     "name": "stdout",
     "text": "Direction: Write code that compute the squares and cubes for numbers from 0 to 5. Display the output as the following: each cell occupies 20 spaces and right-aligned.\n\n              Number              Square                Cube\n                   0                   0                   0\n                   1                   1                   1\n                   2                   4                   8\n                   3                   9                  27\n                   4                  16                  64\n                   5                  25                 125\n"
    }
   ],
   "source": [
    "#GlobalVariables\n",
    "DIRECTION = 'Direction: Write code that compute the squares and cubes for numbers from 0 to 5. Display the output as the following: each cell occupies 20 spaces and right-aligned.\\n'\n",
    "\n",
    "WIDTH = 20\n",
    "PAD_CHAR = ' '\n",
    "\n",
    "COL1_HEAD = 'Number'\n",
    "COL2_HEAD = 'Square'\n",
    "COL3_HEAD = 'Cube'\n",
    "COL1_POWER = 1\n",
    "COL2_POWER = 2\n",
    "COL3_POWER = 3\n",
    "\n",
    "START = 0\n",
    "END = 5\n",
    "\n",
    "#Print drections\n",
    "print(DIRECTION)\n",
    "\n",
    "#Construct and print the header row\n",
    "head_format   = f'{COL1_HEAD :{PAD_CHAR}>{WIDTH}}'\n",
    "head_format  += f'{COL2_HEAD :{PAD_CHAR}>{WIDTH}}'\n",
    "head_format  += f'{COL3_HEAD :{PAD_CHAR}>{WIDTH}}'\n",
    "print(head_format)\n",
    "\n",
    "#Construct and print the directed output\n",
    "for x in range(START,END + 1):\n",
    "    line_str  = f'{x**COL1_POWER :{PAD_CHAR}>{WIDTH}}'\n",
    "    line_str += f'{x**COL2_POWER :{PAD_CHAR}>{WIDTH}}'\n",
    "    line_str += f'{x**COL3_POWER :{PAD_CHAR}>{WIDTH}}'\n",
    "    print(line_str)\n",
    "    x += 1"
   ]
  },
  {
   "cell_type": "markdown",
   "metadata": {},
   "source": [
    "## Solution 2"
   ]
  },
  {
   "cell_type": "code",
   "execution_count": 122,
   "metadata": {
    "tags": []
   },
   "outputs": [
    {
     "output_type": "stream",
     "name": "stdout",
     "text": "The formula to covert a Celsius temperature to a Fahrenheit temperature is \nF = 9 / 5 * C  + 32 \nWrite code that use this formula to calculate and print the Fahrenheit temperature for Celsius value of -40, 0, 40 and 100.\n\n        celsius     fahrenheit\n          -40.0          -40.0\n            0.0           32.0\n           40.0          104.0\n          100.0          212.0\n"
    }
   ],
   "source": [
    "#GlobalVariables\n",
    "DIRECTION = \"The formula to covert a Celsius temperature to a Fahrenheit temperature is \\nF = 9 / 5 * C  + 32 \\nWrite code that use this formula to calculate and print the Fahrenheit temperature for Celsius value of -40, 0, 40 and 100.\\n\"\n",
    "vals_celsius = [-40, 0, 40, 100]\n",
    "COL1_HEAD = 'celsius'\n",
    "COL2_HEAD = 'fahrenheit'\n",
    "WIDTH = 15\n",
    "PAD_CHAR = ' '\n",
    "DEC_PLACES = 1\n",
    "\n",
    "#Print drections\n",
    "print(DIRECTION)\n",
    "\n",
    "#Construct and print the header row\n",
    "head_format   = f'{COL1_HEAD :{PAD_CHAR}>{WIDTH}}'\n",
    "head_format  += f'{COL2_HEAD :{PAD_CHAR}>{WIDTH}}'\n",
    "print(head_format)\n",
    "\n",
    "#Construct and print the directed output\n",
    "for c in vals_celsius:\n",
    "    line_str   = f'{c :{PAD_CHAR}>{WIDTH}.{DEC_PLACES}f}'\n",
    "    line_str  += f'{9 / 5 * c + 32 :{PAD_CHAR}>{WIDTH}.{DEC_PLACES}f}'\n",
    "    print(line_str)\n"
   ]
  },
  {
   "cell_type": "markdown",
   "metadata": {},
   "source": [
    "## Solution 3"
   ]
  },
  {
   "cell_type": "code",
   "execution_count": 123,
   "metadata": {
    "tags": []
   },
   "outputs": [
    {
     "output_type": "stream",
     "name": "stdout",
     "text": "Write a script that input three integers from the user. Then print the sum and average of the numbers. The sum should use comma (,) separator. The average uses comma separate and has two decimal places. Each result is in a different line.\n\nThe input was [1000, 2000, 4000]\nThe sum is 7,000\nThe average is 2,333.33\n"
    }
   ],
   "source": [
    "#GlobalVariables\n",
    "DIRECTION = \"Write a script that input three integers from the user. Then print the sum and average of the numbers. The sum should use comma (,) separator. The average uses comma separate and has two decimal places. Each result is in a different line.\\n\"\n",
    "\n",
    "#Print drections\n",
    "print(DIRECTION)\n",
    "\n",
    "#Process Input\n",
    "my_input = input('Enter any three integers separated by single space: ')\n",
    "my_ints_str = my_input.split(' ')\n",
    "my_ints = list(map(int,my_ints_str))\n",
    "\n",
    "#Display the user input to confirm\n",
    "print(f'The input was {my_ints}')\n",
    "\n",
    "#Construct and print the directed output\n",
    "my_sum = sum(my_ints)\n",
    "my_ave = sum(my_ints) / len(my_ints)\n",
    "print(f'The sum is {my_sum:,}')\n",
    "print(f'The average is {my_ave:,.2f}')"
   ]
  },
  {
   "cell_type": "code",
   "execution_count": null,
   "metadata": {},
   "outputs": [],
   "source": []
  }
 ]
}